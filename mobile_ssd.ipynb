{
  "cells": [
    {
      "cell_type": "markdown",
      "metadata": {
        "id": "view-in-github",
        "colab_type": "text"
      },
      "source": [
        "<a href=\"https://colab.research.google.com/github/Tung0000/MobileNet_ssd/blob/main/mobile_ssd.ipynb\" target=\"_parent\"><img src=\"https://colab.research.google.com/assets/colab-badge.svg\" alt=\"Open In Colab\"/></a>"
      ]
    },
    {
      "cell_type": "code",
      "execution_count": null,
      "metadata": {
        "id": "B7_t00aPynvw"
      },
      "outputs": [],
      "source": [
        "#!pip list"
      ]
    },
    {
      "cell_type": "code",
      "execution_count": null,
      "metadata": {
        "id": "4zVVHegYyrGP"
      },
      "outputs": [],
      "source": [
        "!pip install numpy\n",
        "!pip install opencv-python"
      ]
    },
    {
      "cell_type": "code",
      "execution_count": null,
      "metadata": {
        "colab": {
          "background_save": true
        },
        "id": "S2UqHh03xtFH"
      },
      "outputs": [],
      "source": [
        "import numpy as np\n",
        "import cv2\n",
        "from google.colab.patches import cv2_imshow   # สำหรับแสดงภาพใน Colab\n",
        "\n",
        "# รายชื่อหมวดหมู่ทั้งหมด\n",
        "CLASSES = [\"BACKGROUND\", \"AEROPLANE\", \"BICYCLE\", \"BIRD\", \"BOAT\",\n",
        "           \"BOTTLE\", \"BUS\", \"CAR\", \"CAT\", \"CHAIR\", \"COW\", \"DININGTABLE\",\n",
        "           \"DOG\", \"HORSE\", \"MOTORBIKE\", \"PERSON\", \"POTTEDPLANT\", \"SHEEP\",\n",
        "           \"SOFA\", \"TRAIN\", \"TVMONITOR\"]\n",
        "\n",
        "# สีสุ่มสำหรับวาดกรอบ\n",
        "COLORS = np.random.uniform(0, 100, size=(len(CLASSES), 3))\n",
        "\n",
        "\n",
        "def load_model(proto_path, model_path):\n",
        "    \"\"\"โหลดโมเดลจากไฟล์ prototxt และ caffemodel\"\"\"\n",
        "    net = cv2.dnn.readNetFromCaffe(proto_path, model_path)\n",
        "    return net\n",
        "\n",
        "\n",
        "def process_frame(frame, net, conf_threshold=0.5, draw=True):\n",
        "    \"\"\"ประมวลผลทีละเฟรมและคืนค่าเฟรม + results\"\"\"\n",
        "    (h, w) = frame.shape[:2]\n",
        "    results = []\n",
        "\n",
        "    blob = cv2.dnn.blobFromImage(frame, 0.007843, (300, 300), 127.5)\n",
        "    net.setInput(blob)\n",
        "    detections = net.forward()\n",
        "\n",
        "    for i in np.arange(0, detections.shape[2]):\n",
        "        percent = detections[0, 0, i, 2]\n",
        "        if percent > conf_threshold:\n",
        "            class_index = int(detections[0, 0, i, 1])\n",
        "            box = detections[0, 0, i, 3:7] * np.array([w, h, w, h])\n",
        "            (startX, startY, endX, endY) = box.astype(\"int\")\n",
        "\n",
        "            label = \"{} [{:.2f}%]\".format(CLASSES[class_index], percent * 100)\n",
        "            results.append({\n",
        "                \"class\": CLASSES[class_index],\n",
        "                \"confidence\": float(percent),\n",
        "                \"box\": (int(startX), int(startY), int(endX), int(endY))\n",
        "            })\n",
        "\n",
        "            if draw:\n",
        "                cv2.rectangle(frame, (startX, startY), (endX, endY), COLORS[class_index], 2)\n",
        "                cv2.rectangle(frame, (startX - 1, startY - 30), (endX + 1, startY),\n",
        "                              COLORS[class_index], cv2.FILLED)\n",
        "                y = startY - 15 if startY - 15 > 15 else startY + 15\n",
        "                cv2.putText(frame, label, (startX + 20, y + 5),\n",
        "                            cv2.FONT_HERSHEY_DUPLEX, 0.6, (255, 255, 255), 1)\n",
        "\n",
        "    return frame, results\n",
        "\n",
        "\n",
        "def run_image(net, image_path):\n",
        "    \"\"\"ตรวจจับวัตถุจากรูปภาพ\"\"\"\n",
        "    frame = cv2.imread(image_path)\n",
        "    if frame is None:\n",
        "        raise FileNotFoundError(f\"ไม่พบไฟล์รูปภาพ: {image_path}\")\n",
        "\n",
        "    frame, results = process_frame(frame, net)\n",
        "    cv2_imshow(frame)  # ใช้แทน cv2.imshow\n",
        "    cv2.waitKey(0)\n",
        "    cv2.destroyAllWindows()\n",
        "    return results\n",
        "\n",
        "\n",
        "def run_video(net, video_path):\n",
        "    \"\"\"ตรวจจับวัตถุจากวิดีโอ (แสดงทีละเฟรมใน Colab)\"\"\"\n",
        "    cap = cv2.VideoCapture(video_path)\n",
        "    if not cap.isOpened():\n",
        "        raise FileNotFoundError(f\"ไม่พบไฟล์วิดีโอ: {video_path}\")\n",
        "\n",
        "    while True:\n",
        "        ret, frame = cap.read()\n",
        "        if not ret:\n",
        "            break\n",
        "\n",
        "        frame, results = process_frame(frame, net)\n",
        "        cv2_imshow(frame)  # ใช้แทน cv2.imshow\n",
        "\n",
        "        if results:\n",
        "            print(results)\n",
        "\n",
        "        if cv2.waitKey(1) & 0xFF == ord('q'):\n",
        "            break\n",
        "\n",
        "    cap.release()\n",
        "    cv2.destroyAllWindows()\n",
        "\n",
        "\n",
        "# ------------------ Main ------------------\n",
        "if __name__ == \"__main__\":\n",
        "    net = load_model(\"MobileNetSSD_deploy.prototxt\",\n",
        "                     \"MobileNetSSD_deploy.caffemodel\")\n",
        "\n",
        "    results = run_image(net, \"Coco.png\")     # ใช้รูปภาพ\n",
        "    run_video(net, \"test.mp4\")               # ใช้วิดีโอ\n",
        "\n",
        "    print(\"Final Results:\", results)"
      ]
    }
  ],
  "metadata": {
    "colab": {
      "provenance": [],
      "authorship_tag": "ABX9TyPiiws6ZVytkWwPJB0hX7y3",
      "include_colab_link": true
    },
    "kernelspec": {
      "display_name": "Python 3",
      "name": "python3"
    },
    "language_info": {
      "name": "python"
    }
  },
  "nbformat": 4,
  "nbformat_minor": 0
}